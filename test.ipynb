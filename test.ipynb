{
 "cells": [
  {
   "cell_type": "code",
   "execution_count": 48,
   "metadata": {},
   "outputs": [],
   "source": [
    "from langchain_community.document_loaders import PyPDFLoader\n",
    "from langchain_community.document_loaders import UnstructuredFileLoader\n",
    "from langchain.vectorstores import pinecone\n",
    "from langchain_chroma import Chroma\n",
    "from langchain_community.document_loaders import WikipediaLoader\n",
    "import os\n",
    "from sentence_transformers import SentenceTransformer, util\n",
    "from langchain.text_splitter import RecursiveCharacterTextSplitter\n",
    "from langchain_astradb import AstraDBVectorStore\n",
    "from langchain_community.document_loaders import PyMuPDFLoader\n",
    "from dotenv import load_dotenv\n",
    "import os\n",
    "from langchain_community.document_loaders import UnstructuredFileLoader\n",
    "from langchain.text_splitter import RecursiveCharacterTextSplitter\n",
    "from sentence_transformers import SentenceTransformer\n",
    "from langchain.vectorstores import Chroma\n",
    "from langchain_community.embeddings.sentence_transformer import (\n",
    "    SentenceTransformerEmbeddings,\n",
    ")\n",
    "from langchain_experimental.text_splitter import SemanticChunker\n",
    "from langchain_community.document_loaders import WikipediaLoader\n",
    "from langchain_community.document_loaders import UnstructuredFileLoader\n",
    "# Import necessary modules and classes\n",
    "from langchain_community.document_loaders import WikipediaLoader\n",
    "from langchain_experimental.text_splitter import SemanticChunker\n",
    "from langchain_chroma import Chroma\n",
    "from langchain_huggingface import HuggingFaceEmbeddings\n",
    "from langchain_openai.embeddings import OpenAIEmbeddings\n",
    "# Import necessary modules and classes\n",
    "from langchain_community.document_loaders import WikipediaLoader\n",
    "from langchain_experimental.text_splitter import SemanticChunker\n",
    "from langchain_chroma import Chroma\n",
    "from langchain_huggingface import HuggingFaceEmbeddings"
   ]
  },
  {
   "cell_type": "markdown",
   "metadata": {},
   "source": [
    "### Creating Recursive Split Chunking and OpenAI Embedding"
   ]
  },
  {
   "cell_type": "code",
   "execution_count": 6,
   "metadata": {},
   "outputs": [],
   "source": [
    "\n",
    "# Step 1: Load the PDF document using UnstructuredFileLoader\n",
    "loader = UnstructuredFileLoader(\"/teamspace/studios/this_studio/RAG/DeepLearningBook.pdf\")\n",
    "docs = loader.load()\n",
    "\n",
    "# Step 2: Split the document into smaller chunks for processing\n",
    "s1 = RecursiveCharacterTextSplitter(chunk_size=500, chunk_overlap=200)\n",
    "documents = s1.split_documents(docs)\n",
    "\n",
    "# Step 3: Initialize an embedding function for semantic analysis (using OpenAI's embeddings)\n",
    "openai.api_key = os.getenv(\"OPENAI_API_KEY\")  # Assuming OPENAI_API_KEY is set in environment variables\n",
    "embeddings = OpenAIEmbeddings(model=\"text-embedding-3-large\", openai_api_key=openai.api_key)\n",
    "\n",
    "# Step 4: Store the chunks in a database with semantic embeddings\n",
    "db = Chroma.from_documents(documents, embeddings)\n",
    "\n",
    "# Step 5: Query the database for documents similar to a given query\n",
    "query = \"how many types of optimisers are there\"\n",
    "docs1 = db.similarity_search(query)\n",
    "\n",
    "# Step 6: Output or further process the results\n",
    "print(\"Documents similar to query:\", docs1)"
   ]
  },
  {
   "cell_type": "markdown",
   "metadata": {},
   "source": [
    "### Creating Recursive Split Chunking and Open Source Embedding  on PDF"
   ]
  },
  {
   "cell_type": "code",
   "execution_count": 49,
   "metadata": {},
   "outputs": [
    {
     "name": "stderr",
     "output_type": "stream",
     "text": [
      "/home/zeus/miniconda3/envs/cloudspace/lib/python3.10/site-packages/langchain_core/_api/deprecation.py:139: LangChainDeprecationWarning: The class `HuggingFaceEmbeddings` was deprecated in LangChain 0.2.2 and will be removed in 0.3.0. An updated version of the class exists in the langchain-huggingface package and should be used instead. To use it run `pip install -U langchain-huggingface` and import as `from langchain_huggingface import HuggingFaceEmbeddings`.\n",
      "  warn_deprecated(\n",
      "/home/zeus/miniconda3/envs/cloudspace/lib/python3.10/site-packages/huggingface_hub/file_download.py:1132: FutureWarning: `resume_download` is deprecated and will be removed in version 1.0.0. Downloads always resume when possible. If you want to force a new download, use `force_download=True`.\n",
      "  warnings.warn(\n"
     ]
    },
    {
     "data": {
      "text/plain": [
       "[Document(page_content='t\\n\\n1)\\n\\nM\\n\\nat each time step, which costs only\\n\\nO n( )\\n\\nper step.\\n\\n8.7 Optimization Strategies and Meta-Algorithms\\n\\nMany optimization techniques are not exactly algorithms, but rather general templates that can be specialized to yield algorithms, or subroutines that can be incorporated into many diﬀerent algorithms.\\n\\n8.7.1 Batch Normalization', metadata={'source': '/teamspace/studios/this_studio/RAG/DeepLearningBook.pdf'}),\n",
       " Document(page_content='t\\n\\n1)\\n\\nM\\n\\nat each time step, which costs only\\n\\nO n( )\\n\\nper step.\\n\\n8.7 Optimization Strategies and Meta-Algorithms\\n\\nMany optimization techniques are not exactly algorithms, but rather general templates that can be specialized to yield algorithms, or subroutines that can be incorporated into many diﬀerent algorithms.\\n\\n8.7.1 Batch Normalization', metadata={'source': '/teamspace/studios/this_studio/RAG/DeepLearningBook.pdf'}),\n",
       " Document(page_content='hand-designed, it can usually be understood as using a special-case optimizer. Some models such as decision trees or k-means require special-case optimizers because their cost functions have ﬂat regions that make them inappropriate for minimization by gradient-based optimizers. Recognizing that most machine learning algorithms can be described using this recipe helps to see the diﬀerent algorithms as part of a taxonomy of methods for doing related tasks that work for similar reasons, rather', metadata={'source': '/teamspace/studios/this_studio/RAG/DeepLearningBook.pdf'}),\n",
       " Document(page_content='hand-designed, it can usually be understood as using a special-case optimizer. Some models such as decision trees or k-means require special-case optimizers because their cost functions have ﬂat regions that make them inappropriate for minimization by gradient-based optimizers. Recognizing that most machine learning algorithms can be described using this recipe helps to see the diﬀerent algorithms as part of a taxonomy of methods for doing related tasks that work for similar reasons, rather', metadata={'source': '/teamspace/studios/this_studio/RAG/DeepLearningBook.pdf'})]"
      ]
     },
     "execution_count": 49,
     "metadata": {},
     "output_type": "execute_result"
    }
   ],
   "source": [
    "\n",
    "\n",
    "# Load the document\n",
    "loader = UnstructuredFileLoader(\"/teamspace/studios/this_studio/RAG/DeepLearningBook.pdf\")\n",
    "docs = loader.load()\n",
    "\n",
    "\n",
    "\n",
    "# Split the document into chunks\n",
    "text_splitter = RecursiveCharacterTextSplitter(chunk_size=500, chunk_overlap=200)\n",
    "documents = text_splitter.split_documents(docs)\n",
    "# Generate embeddings\n",
    "embedding_function = SentenceTransformerEmbeddings(model_name=\"all-MiniLM-L6-v2\")\n",
    "\n",
    "\n",
    "db = Chroma.from_documents(documents,embedding_function,persist_directory=\"./teamspace/studios/this_studio/RAG//chroma_db\")\n",
    "\n",
    "query = \"how many types of optimisers are there\"\n",
    "docs1 = db.similarity_search(query)\n",
    "docs1\n",
    "### Sementic Search  Converting PDF to Text"
   ]
  },
  {
   "cell_type": "markdown",
   "metadata": {},
   "source": [
    "### Creating Chunking based on Recursive Split and Open Source Embedding on Wiki loader\n"
   ]
  },
  {
   "cell_type": "code",
   "execution_count": 50,
   "metadata": {},
   "outputs": [
    {
     "name": "stderr",
     "output_type": "stream",
     "text": [
      "/home/zeus/miniconda3/envs/cloudspace/lib/python3.10/site-packages/huggingface_hub/file_download.py:1132: FutureWarning: `resume_download` is deprecated and will be removed in version 1.0.0. Downloads always resume when possible. If you want to force a new download, use `force_download=True`.\n",
      "  warnings.warn(\n"
     ]
    },
    {
     "name": "stdout",
     "output_type": "stream",
     "text": [
      "Documents similar to query: [Document(page_content='The F-22 descended from the Lockheed YF-22 and first flew in 1997, and was variously designated F-22 and F/A-22 before it formally entered service in December 2005 as the F-22A. Although the USAF had originally planned to buy a total of 750 ATFs, it later scaled down to 381, and the program was ultimately cut to 195 aircraft — 187 of them operational models — in 2009 due to political opposition from high costs, a lack of air-to-air missions at the time of production, and the development of the', metadata={'source': 'https://en.wikipedia.org/wiki/Lockheed_Martin_F-22_Raptor', 'summary': \"The Lockheed Martin/Boeing F-22 Raptor is an American twin-engine all-weather stealth fighter aircraft developed and produced for the United States Air Force (USAF). As a product of the USAF's Advanced Tactical Fighter (ATF) program the aircraft was designed as an air superiority fighter, but also incorporates ground attack, electronic warfare, and signals intelligence capabilities. The prime contractor, Lockheed Martin, built most of the F-22's airframe and weapons systems and conducted final assembly, while program partner Boeing provided the wings, aft fuselage, avionics integration, and training systems.\\nThe F-22 descended from the Lockheed YF-22 and first flew in 1997, and was variously designated F-22 and F/A-22 before it formally entered service in December 2005 as the F-22A. Although the USAF had originally planned to buy a total of 750 ATFs, it later scaled down to 381, and the program was ultimately cut to 195 aircraft — 187 of them operational models — in 2009 due to political opposition from high costs, a lack of air-to-air missions at the time of production, and the development of the more affordable and versatile F-35. The last aircraft was delivered in 2012.\\nAfter a protracted development and initial operational difficulties, the F-22 became a critical component of the USAF's tactical airpower for air-to-air missions against peer adversaries. While designed for counter-air operations, the aircraft has also performed strike and electronic support missions in the Middle East against the Islamic State and Assad-aligned forces. The F-22 will remain a cornerstone of the USAF's fighter fleet until its succession by the crewed Next Generation Air Dominance fighter.\\n\\n\", 'title': 'Lockheed Martin F-22 Raptor'}), Document(page_content='The Lockheed Martin/Boeing F-22 Raptor is an American twin-engine all-weather stealth fighter aircraft developed and produced for the United States Air Force (USAF). As a product of the USAF\\'s Advanced Tactical Fighter (ATF) program the aircraft was designed as an air superiority fighter, but also incorporates ground attack, electronic warfare, and signals intelligence capabilities. The prime contractor, Lockheed Martin, built most of the F-22\\'s airframe and weapons systems and conducted final assembly, while program partner Boeing provided the wings, aft fuselage, avionics integration, and training systems. The F-22 descended from the Lockheed YF-22 and first flew in 1997, and was variously designated F-22 and F/A-22 before it formally entered service in December 2005 as the F-22A. Although the USAF had originally planned to buy a total of 750 ATFs, it later scaled down to 381, and the program was ultimately cut to 195 aircraft — 187 of them operational models — in 2009 due to political opposition from high costs, a lack of air-to-air missions at the time of production, and the development of the more affordable and versatile F-35. The last aircraft was delivered in 2012. After a protracted development and initial operational difficulties, the F-22 became a critical component of the USAF\\'s tactical airpower for air-to-air missions against peer adversaries. While designed for counter-air operations, the aircraft has also performed strike and electronic support missions in the Middle East against the Islamic State and Assad-aligned forces. The F-22 will remain a cornerstone of the USAF\\'s fighter fleet until its succession by the crewed Next Generation Air Dominance fighter. == Development ==\\n\\n\\n=== Origins ===\\n\\nThe F-22 originated from the Advanced Tactical Fighter (ATF) program that the U.S. Air Force initiated in 1981 to replace the F-15 Eagle and F-16 Fighting Falcon. Although the F-15 and F-16 had only recently entered service, intelligence reports indicated that their effectiveness would be quickly eroded by emerging worldwide threats emanating from the Soviet Union, including new developments in surface-to-air missile systems for integrated air defense networks, the introduction of the Beriev A-50 \"Mainstay\" airborne warning and control system (AWACS), and the proliferation of the Sukhoi Su-27 \"Flanker\"- and Mikoyan MiG-29 \"Fulcrum\"-class of fighter aircraft. Initially code-named \"Senior Sky\", the ATF would become an air superiority fighter program influenced by these reports; in the potential scenario of a Soviet and Warsaw Pact invasion in Central Europe, the ATF was envisaged to spearhead offensive and defensive counter-air operations (OCA/DCA) in this highly contested environment that would then enable following echelons of NATO strike and attack aircraft to hit ground formations; to do so, the ATF would make an ambitious leap in capability and survivability by taking advantage of the new technologies in fighter design on the horizon, including composite materials, lightweight alloys, advanced flight control systems and avionics, more powerful propulsion systems for supersonic cruise (or supercruise) over Mach 1.5, and most importantly, stealth technology for low observability. The USAF initiated an ATF request for information (RFI) to the aerospace industry in May 1981 as well as a subsequent concept development team (CDT) for identifying requirements and managing concept and technology development.', metadata={'source': 'https://en.wikipedia.org/wiki/Lockheed_Martin_F-22_Raptor', 'summary': \"The Lockheed Martin/Boeing F-22 Raptor is an American twin-engine all-weather stealth fighter aircraft developed and produced for the United States Air Force (USAF). As a product of the USAF's Advanced Tactical Fighter (ATF) program the aircraft was designed as an air superiority fighter, but also incorporates ground attack, electronic warfare, and signals intelligence capabilities. The prime contractor, Lockheed Martin, built most of the F-22's airframe and weapons systems and conducted final assembly, while program partner Boeing provided the wings, aft fuselage, avionics integration, and training systems.\\nThe F-22 descended from the Lockheed YF-22 and first flew in 1997, and was variously designated F-22 and F/A-22 before it formally entered service in December 2005 as the F-22A. Although the USAF had originally planned to buy a total of 750 ATFs, it later scaled down to 381, and the program was ultimately cut to 195 aircraft — 187 of them operational models — in 2009 due to political opposition from high costs, a lack of air-to-air missions at the time of production, and the development of the more affordable and versatile F-35. The last aircraft was delivered in 2012.\\nAfter a protracted development and initial operational difficulties, the F-22 became a critical component of the USAF's tactical airpower for air-to-air missions against peer adversaries. While designed for counter-air operations, the aircraft has also performed strike and electronic support missions in the Middle East against the Islamic State and Assad-aligned forces. The F-22 will remain a cornerstone of the USAF's fighter fleet until its succession by the crewed Next Generation Air Dominance fighter.\\n\\n\", 'title': 'Lockheed Martin F-22 Raptor'}), Document(page_content='The F22 2 Series has a 50:50 weight distribution and features a MacPherson strut front suspension and a five-link rear suspension. Compared to the E82 1 Series coupé, the F22 2 Series is 72 mm (2.8 in) longer, 26 mm (1.0 in) wider, and 5 mm (0.2 in) lower. The 2 Series also has 6 mm (0.2 in) more front headroom and 21 mm (0.8 in) more rear legroom, and has an additional 20 litres (0.71 cu ft) trunk space at 390 litres (14 cu ft). The 2 Series has a reduced drag coefficient of 0.29 Cd for the', metadata={'source': 'https://en.wikipedia.org/wiki/BMW_2_Series_(F22)', 'summary': 'The first generation of the coupé and convertible range of the BMW 2 Series subcompact executive car consists of the BMW 2 Series (F22) for the coupé version and BMW 2 Series (F23) for the convertible version. The F22/F23 was in production from November 2013 through 2021 and is often collectively referred to as the F22.\\nThe F22 was released as the successor to the E82 1 Series coupé and E88 1 Series convertible. It is currently produced in Leipzig, previously alongside the F20 1 Series hatchback range.\\nThe high-performance F87 M2 model was produced in the coupe body style. It is powered by the BMW N55 and BMW S55 turbocharged inline-six engines.\\nThe United States was the most popular market for the 2 Series, accounting for one-third of all sales, followed by Germany and Great Britain.', 'title': 'BMW 2 Series (F22)'}), Document(page_content='cut to 195 aircraft — 187 of them operational models — in 2009 due to political opposition from high costs, a lack of air-to-air missions at the time of production, and the development of the more affordable and versatile F-35. The last aircraft was delivered in 2012.', metadata={'source': 'https://en.wikipedia.org/wiki/Lockheed_Martin_F-22_Raptor', 'summary': \"The Lockheed Martin/Boeing F-22 Raptor is an American twin-engine all-weather stealth fighter aircraft developed and produced for the United States Air Force (USAF). As a product of the USAF's Advanced Tactical Fighter (ATF) program the aircraft was designed as an air superiority fighter, but also incorporates ground attack, electronic warfare, and signals intelligence capabilities. The prime contractor, Lockheed Martin, built most of the F-22's airframe and weapons systems and conducted final assembly, while program partner Boeing provided the wings, aft fuselage, avionics integration, and training systems.\\nThe F-22 descended from the Lockheed YF-22 and first flew in 1997, and was variously designated F-22 and F/A-22 before it formally entered service in December 2005 as the F-22A. Although the USAF had originally planned to buy a total of 750 ATFs, it later scaled down to 381, and the program was ultimately cut to 195 aircraft — 187 of them operational models — in 2009 due to political opposition from high costs, a lack of air-to-air missions at the time of production, and the development of the more affordable and versatile F-35. The last aircraft was delivered in 2012.\\nAfter a protracted development and initial operational difficulties, the F-22 became a critical component of the USAF's tactical airpower for air-to-air missions against peer adversaries. While designed for counter-air operations, the aircraft has also performed strike and electronic support missions in the Middle East against the Islamic State and Assad-aligned forces. The F-22 will remain a cornerstone of the USAF's fighter fleet until its succession by the crewed Next Generation Air Dominance fighter.\\n\\n\", 'title': 'Lockheed Martin F-22 Raptor'})]\n"
     ]
    }
   ],
   "source": [
    "\n",
    "# Step 1: Load documents from Wikipedia based on a query (\"f22\")\n",
    "docs = WikipediaLoader(query=\"f22\", load_max_docs=2).load()\n",
    "\n",
    "# Step 2: Split documents into smaller chunks for processing\n",
    "text_splitter = RecursiveCharacterTextSplitter(chunk_size=500, chunk_overlap=200)\n",
    "documents = text_splitter.split_documents(docs)\n",
    "\n",
    "# Step 3: Initialize an embedding function for semantic analysis\n",
    "embedding_function = SentenceTransformerEmbeddings(model_name=\"all-MiniLM-L6-v2\")\n",
    "\n",
    "# Step 4: Store the chunks in a database with semantic embeddings\n",
    "db_sem = Chroma.from_documents(documents, embedding_function)\n",
    "\n",
    "# Step 5: Query the database for documents similar to a given query\n",
    "query = \"how many weapons f22 can carry\"\n",
    "similar_docs = db_sem.similarity_search(query)\n",
    "\n",
    "# Step 6: Output or further process the results\n",
    "print(\"Documents similar to query:\", similar_docs)"
   ]
  },
  {
   "cell_type": "markdown",
   "metadata": {},
   "source": [
    "### Sementic Chunking with OpenAi and Hugging face model"
   ]
  },
  {
   "cell_type": "code",
   "execution_count": 38,
   "metadata": {},
   "outputs": [
    {
     "data": {
      "text/plain": [
       "[Document(page_content='The first generation of the coupé and convertible range of the BMW 2 Series subcompact executive car consists of the BMW 2 Series (F22) for the coupé version and BMW 2 Series (F23) for the convertible version. The F22/F23 was in production from November 2013 through 2021 and is often collectively referred to as the F22.\\nThe F22 was released as the successor to the E82 1 Series coupé and E88 1 Series convertible. It is currently produced in Leipzig, previously alongside the F20 1 Series hatchback range.\\nThe high-performance F87 M2 model was produced in the coupe body style. It is powered by the BMW N55 and BMW S55 turbocharged inline-six engines.\\nThe United States was the most popular market for the 2 Series, accounting for one-third of all sales, followed by Germany and Great Britain.\\n\\n\\n== Development and launch ==\\nThe coupé model premiered at the 2014 North American International Auto Show, with sales beginning in March 2014. The convertible model premiered later in October at the 2014 Paris Motor Show, and launched in February 2015. The exterior design was led by Christopher Weil.\\nThe F22 2 Series has a 50:50 weight distribution and features a MacPherson strut front suspension and a five-link rear suspension. Compared to the E82 1 Series coupé, the F22 2 Series is 72 mm (2.8 in) longer, 26 mm (1.0 in) wider, and 5 mm (0.2 in) lower. The 2 Series also has 6 mm (0.2 in) more front headroom and 21 mm (0.8 in) more rear legroom, and has an additional 20 litres (0.71 cu ft) trunk space at 390 litres (14 cu ft). The 2 Series has a reduced drag coefficient of 0.29 Cd for the 220i Coupé.\\nConvertible models feature a 20% increase in rigidity compared to the E88 1 Series convertible and feature an electric convertible top that can be raised or lowered in 20 seconds at speeds up to 50 km/h (31 mph).\\nAll models meet the Euro 6 exhaust emissions standard.\\n\\n\\n== Body styles ==\\n\\n\\t\\t\\n\\t\\t\\t\\n\\t\\t\\t\\n\\t\\t\\n\\t\\t\\n\\t\\t\\t\\n\\t\\t\\t\\n\\t\\t\\n\\n\\n== Equipment ==\\n\\nStandard equipment includes automatic climate control, iDrive with a 6.5-inch display, and 60:40 split folding rear seats. The 2 Series is available in Sport Line, Modern Line, and M Sport trim. Sport line models feature gloss black exterior trim, while Modern line models feature aluminium exterior trim. M Sport models feature a 10 mm (0.4 in) lower suspension, sport seats, and M exterior styling.\\n218-230 with the M Sport trim and M235-240 models can be fitted with M Performance Parts. These include a splitter, side skirts, lip spoiler and diffuser.\\nOptional equipment includes automatic parking, traffic sign recognition, a Harman Kardon HiFi system, and Apple CarPlay. Models are also available with iDrive Professional Navigation which features a larger 8.8-inch display with a built-in SIM card with LTE support, allowing for automatic over-the-air updates for live traffic information and on-street parking information.\\n\\n\\n== Models ==\\n\\n\\n=== Petrol engines ===\\n\\n\\n=== Diesel engines ===\\n\\n\\n== BMW M2 ==\\n\\n\\n=== M2 (F87) ===\\n\\nIn November 2015, BMW unveiled their high-performance version of the 2 Series, the M2, with sales beginning in 2016 and only being available as a 2-door coupe. The Competition replaced the standard car in 2018 with the CS being revealed in November 2019 and sales beginning in March 2020, with 2,200 units planned.\\n\\n\\n== Special variants ==\\n\\n\\n=== M235i Track Edition ===\\nFor 2015 BMW sold the M235i Track Edition as a limited production model in certain markets. In Canada, it was limited to 50 units. It came with the same N55B30 engine as the standard M235i, but was equipped with a limited-slip differential, M Performance suspension, and M Performance exhaust, while power seat motors and the sunroof were eliminated to save weight. Other changes included special wheels, carbon mirror caps, a trunk lip spoiler, and a full M Performance aerodynamics package.\\n\\n\\n== Model year changes ==\\n\\n\\n=== 2016 ===\\nThe following changes were available from summer 2016:\\n\\nEngine in 4-cylinder models upgraded to B48B20 2.0 L I4 turbo\\nE', metadata={'title': 'BMW 2 Series (F22)', 'summary': 'The first generation of the coupé and convertible range of the BMW 2 Series subcompact executive car consists of the BMW 2 Series (F22) for the coupé version and BMW 2 Series (F23) for the convertible version. The F22/F23 was in production from November 2013 through 2021 and is often collectively referred to as the F22.\\nThe F22 was released as the successor to the E82 1 Series coupé and E88 1 Series convertible. It is currently produced in Leipzig, previously alongside the F20 1 Series hatchback range.\\nThe high-performance F87 M2 model was produced in the coupe body style. It is powered by the BMW N55 and BMW S55 turbocharged inline-six engines.\\nThe United States was the most popular market for the 2 Series, accounting for one-third of all sales, followed by Germany and Great Britain.', 'source': 'https://en.wikipedia.org/wiki/BMW_2_Series_(F22)'})]"
      ]
     },
     "execution_count": 38,
     "metadata": {},
     "output_type": "execute_result"
    }
   ],
   "source": [
    "\n",
    "\n",
    "# Step 1: Load documents from Wikipedia based on a query (\"f22\")\n",
    "docs = WikipediaLoader(query=\"f22\", load_max_docs=1).load()\n",
    "\n",
    "# Step 2: Initialize a SemanticChunker with OpenAIEmbeddings for text splitting and semantic embedding\n",
    "text_splitter = SemanticChunker(OpenAIEmbeddings(api_key=\"sk-proj-CZRwHcroS8RTZavz4N9nXmu\"))\n",
    "documents = text_splitter.split_documents(docs)\n",
    "\n",
    "# Step 3: Initialize an embedding function for semantic analysis using HuggingFace\n",
    "embedding_function = HuggingFaceEmbeddings(model_name=\"all-MiniLM-L6-v2\")\n",
    "\n",
    "# Step 4: Store the chunks in a database with semantic embeddings using Chroma\n",
    "db_sem = Chroma.from_documents(documents, embedding_function)\n",
    "\n",
    "# Step 5: Query the database for documents similar to a given query\n",
    "query = \"how many weapons f22 can carry\"\n",
    "docs1 = db_sem.similarity_search(query)\n",
    "\n",
    "# Step 6: Output or further process the results\n",
    "print(\"Documents similar to query:\", docs1)\n"
   ]
  },
  {
   "cell_type": "markdown",
   "metadata": {},
   "source": [
    "### Sementic Chunking with  all Open Source Model "
   ]
  },
  {
   "cell_type": "code",
   "execution_count": 46,
   "metadata": {},
   "outputs": [
    {
     "name": "stderr",
     "output_type": "stream",
     "text": [
      "/home/zeus/miniconda3/envs/cloudspace/lib/python3.10/site-packages/huggingface_hub/file_download.py:1132: FutureWarning: `resume_download` is deprecated and will be removed in version 1.0.0. Downloads always resume when possible. If you want to force a new download, use `force_download=True`.\n",
      "  warnings.warn(\n"
     ]
    },
    {
     "name": "stdout",
     "output_type": "stream",
     "text": [
      "Documents similar to query: [Document(page_content='The Lockheed Martin/Boeing F-22 Raptor is an American twin-engine all-weather stealth fighter aircraft developed and produced for the United States Air Force (USAF). As a product of the USAF\\'s Advanced Tactical Fighter (ATF) program the aircraft was designed as an air superiority fighter, but also incorporates ground attack, electronic warfare, and signals intelligence capabilities. The prime contractor, Lockheed Martin, built most of the F-22\\'s airframe and weapons systems and conducted final assembly, while program partner Boeing provided the wings, aft fuselage, avionics integration, and training systems. The F-22 descended from the Lockheed YF-22 and first flew in 1997, and was variously designated F-22 and F/A-22 before it formally entered service in December 2005 as the F-22A. Although the USAF had originally planned to buy a total of 750 ATFs, it later scaled down to 381, and the program was ultimately cut to 195 aircraft — 187 of them operational models — in 2009 due to political opposition from high costs, a lack of air-to-air missions at the time of production, and the development of the more affordable and versatile F-35. The last aircraft was delivered in 2012. After a protracted development and initial operational difficulties, the F-22 became a critical component of the USAF\\'s tactical airpower for air-to-air missions against peer adversaries. While designed for counter-air operations, the aircraft has also performed strike and electronic support missions in the Middle East against the Islamic State and Assad-aligned forces. The F-22 will remain a cornerstone of the USAF\\'s fighter fleet until its succession by the crewed Next Generation Air Dominance fighter. == Development ==\\n\\n\\n=== Origins ===\\n\\nThe F-22 originated from the Advanced Tactical Fighter (ATF) program that the U.S. Air Force initiated in 1981 to replace the F-15 Eagle and F-16 Fighting Falcon. Although the F-15 and F-16 had only recently entered service, intelligence reports indicated that their effectiveness would be quickly eroded by emerging worldwide threats emanating from the Soviet Union, including new developments in surface-to-air missile systems for integrated air defense networks, the introduction of the Beriev A-50 \"Mainstay\" airborne warning and control system (AWACS), and the proliferation of the Sukhoi Su-27 \"Flanker\"- and Mikoyan MiG-29 \"Fulcrum\"-class of fighter aircraft. Initially code-named \"Senior Sky\", the ATF would become an air superiority fighter program influenced by these reports; in the potential scenario of a Soviet and Warsaw Pact invasion in Central Europe, the ATF was envisaged to spearhead offensive and defensive counter-air operations (OCA/DCA) in this highly contested environment that would then enable following echelons of NATO strike and attack aircraft to hit ground formations; to do so, the ATF would make an ambitious leap in capability and survivability by taking advantage of the new technologies in fighter design on the horizon, including composite materials, lightweight alloys, advanced flight control systems and avionics, more powerful propulsion systems for supersonic cruise (or supercruise) over Mach 1.5, and most importantly, stealth technology for low observability. The USAF initiated an ATF request for information (RFI) to the aerospace industry in May 1981 as well as a subsequent concept development team (CDT) for identifying requirements and managing concept and technology development.', metadata={'source': 'https://en.wikipedia.org/wiki/Lockheed_Martin_F-22_Raptor', 'summary': \"The Lockheed Martin/Boeing F-22 Raptor is an American twin-engine all-weather stealth fighter aircraft developed and produced for the United States Air Force (USAF). As a product of the USAF's Advanced Tactical Fighter (ATF) program the aircraft was designed as an air superiority fighter, but also incorporates ground attack, electronic warfare, and signals intelligence capabilities. The prime contractor, Lockheed Martin, built most of the F-22's airframe and weapons systems and conducted final assembly, while program partner Boeing provided the wings, aft fuselage, avionics integration, and training systems.\\nThe F-22 descended from the Lockheed YF-22 and first flew in 1997, and was variously designated F-22 and F/A-22 before it formally entered service in December 2005 as the F-22A. Although the USAF had originally planned to buy a total of 750 ATFs, it later scaled down to 381, and the program was ultimately cut to 195 aircraft — 187 of them operational models — in 2009 due to political opposition from high costs, a lack of air-to-air missions at the time of production, and the development of the more affordable and versatile F-35. The last aircraft was delivered in 2012.\\nAfter a protracted development and initial operational difficulties, the F-22 became a critical component of the USAF's tactical airpower for air-to-air missions against peer adversaries. While designed for counter-air operations, the aircraft has also performed strike and electronic support missions in the Middle East against the Islamic State and Assad-aligned forces. The F-22 will remain a cornerstone of the USAF's fighter fleet until its succession by the crewed Next Generation Air Dominance fighter.\\n\\n\", 'title': 'Lockheed Martin F-22 Raptor'}), Document(page_content='The first generation of the coupé and convertible range of the BMW 2 Series subcompact executive car consists of the BMW 2 Series (F22) for the coupé version and BMW 2 Series (F23) for the convertible version. The F22/F23 was in production from November 2013 through 2021 and is often collectively referred to as the F22. The F22 was released as the successor to the E82 1 Series coupé and E88 1 Series convertible. It is currently produced in Leipzig, previously alongside the F20 1 Series hatchback range. The high-performance F87 M2 model was produced in the coupe body style. It is powered by the BMW N55 and BMW S55 turbocharged inline-six engines. The United States was the most popular market for the 2 Series, accounting for one-third of all sales, followed by Germany and Great Britain.', metadata={'source': 'https://en.wikipedia.org/wiki/BMW_2_Series_(F22)', 'summary': 'The first generation of the coupé and convertible range of the BMW 2 Series subcompact executive car consists of the BMW 2 Series (F22) for the coupé version and BMW 2 Series (F23) for the convertible version. The F22/F23 was in production from November 2013 through 2021 and is often collectively referred to as the F22.\\nThe F22 was released as the successor to the E82 1 Series coupé and E88 1 Series convertible. It is currently produced in Leipzig, previously alongside the F20 1 Series hatchback range.\\nThe high-performance F87 M2 model was produced in the coupe body style. It is powered by the BMW N55 and BMW S55 turbocharged inline-six engines.\\nThe United States was the most popular market for the 2 Series, accounting for one-third of all sales, followed by Germany and Great Britain.', 'title': 'BMW 2 Series (F22)'}), Document(page_content='The first generation of the coupé and convertible range of the BMW 2 Series subcompact executive car consists of the BMW 2 Series (F22) for the coupé version and BMW 2 Series (F23) for the convertible version. The F22/F23 was in production from November 2013 through 2021 and is often collectively referred to as the F22. The F22 was released as the successor to the E82 1 Series coupé and E88 1 Series convertible. It is currently produced in Leipzig, previously alongside the F20 1 Series hatchback range. The high-performance F87 M2 model was produced in the coupe body style. It is powered by the BMW N55 and BMW S55 turbocharged inline-six engines. The United States was the most popular market for the 2 Series, accounting for one-third of all sales, followed by Germany and Great Britain.', metadata={'source': 'https://en.wikipedia.org/wiki/BMW_2_Series_(F22)', 'summary': 'The first generation of the coupé and convertible range of the BMW 2 Series subcompact executive car consists of the BMW 2 Series (F22) for the coupé version and BMW 2 Series (F23) for the convertible version. The F22/F23 was in production from November 2013 through 2021 and is often collectively referred to as the F22.\\nThe F22 was released as the successor to the E82 1 Series coupé and E88 1 Series convertible. It is currently produced in Leipzig, previously alongside the F20 1 Series hatchback range.\\nThe high-performance F87 M2 model was produced in the coupe body style. It is powered by the BMW N55 and BMW S55 turbocharged inline-six engines.\\nThe United States was the most popular market for the 2 Series, accounting for one-third of all sales, followed by Germany and Great Britain.', 'title': 'BMW 2 Series (F22)'}), Document(page_content='The exterior design was led by Christopher Weil. The F22 2 Series has a 50:50 weight distribution and features a MacPherson strut front suspension and a five-link rear suspension. Compared to the E82 1 Series coupé, the F22 2 Series is 72 mm (2.8 in) longer, 26 mm (1.0 in) wider, and 5 mm (0.2 in) lower. The 2 Series also has 6 mm (0.2 in) more front headroom and 21 mm (0.8 in) more rear legroom, and has an additional 20 litres (0.71 cu ft) trunk space at 390 litres (14 cu ft). The 2 Series has a reduced drag coefficient of 0.29 Cd for the 220i Coupé. Convertible models feature a 20% increase in rigidity compared to the E88 1 Series convertible and feature an electric convertible top that can be raised or lowered in 20 seconds at speeds up to 50 km/h (31 mph). All models meet the Euro 6 exhaust emissions standard. == Body styles ==\\n\\n\\t\\t\\n\\t\\t\\t\\n\\t\\t\\t\\n\\t\\t\\n\\t\\t\\n\\t\\t\\t\\n\\t\\t\\t\\n\\t\\t\\n\\n\\n== Equipment ==\\n\\nStandard equipment includes automatic climate control, iDrive with a 6.5-inch display, and 60:40 split folding rear seats. The 2 Series is available in Sport Line, Modern Line, and M Sport trim. Sport line models feature gloss black exterior trim, while Modern line models feature aluminium exterior trim. M Sport models feature a 10 mm (0.4 in) lower suspension, sport seats, and M exterior styling. 218-230 with the M Sport trim and M235-240 models can be fitted with M Performance Parts. These include a splitter, side skirts, lip spoiler and diffuser. Optional equipment includes automatic parking, traffic sign recognition, a Harman Kardon HiFi system, and Apple CarPlay.', metadata={'source': 'https://en.wikipedia.org/wiki/BMW_2_Series_(F22)', 'summary': 'The first generation of the coupé and convertible range of the BMW 2 Series subcompact executive car consists of the BMW 2 Series (F22) for the coupé version and BMW 2 Series (F23) for the convertible version. The F22/F23 was in production from November 2013 through 2021 and is often collectively referred to as the F22.\\nThe F22 was released as the successor to the E82 1 Series coupé and E88 1 Series convertible. It is currently produced in Leipzig, previously alongside the F20 1 Series hatchback range.\\nThe high-performance F87 M2 model was produced in the coupe body style. It is powered by the BMW N55 and BMW S55 turbocharged inline-six engines.\\nThe United States was the most popular market for the 2 Series, accounting for one-third of all sales, followed by Germany and Great Britain.', 'title': 'BMW 2 Series (F22)'})]\n"
     ]
    }
   ],
   "source": [
    "\n",
    "\n",
    "# Step 1: Load documents from Wikipedia based on a query (\"f22\")\n",
    "docs = WikipediaLoader(query=\"f22\", load_max_docs=1).load()\n",
    "\n",
    "# Step 2: Initialize an embedding function using HuggingFace for semantic analysis\n",
    "embedding_function = HuggingFaceEmbeddings(model_name=\"all-MiniLM-L6-v2\")\n",
    "\n",
    "# Step 3: Initialize a SemanticChunker with the embedding function\n",
    "text_splitter = SemanticChunker(embedding_function)\n",
    "documents = text_splitter.split_documents(docs)\n",
    "\n",
    "# Step 4: Store the chunks in a database with semantic embeddings using Chroma\n",
    "db_sem = Chroma.from_documents(documents, embedding_function)\n",
    "\n",
    "# Step 5: Query the database for documents similar to a given query\n",
    "query = \"how many weapons f22 can carry\"\n",
    "docs1 = db_sem.similarity_search(query)\n",
    "\n",
    "# Step 6: Output or further process the results\n",
    "print(\"Documents similar to query:\", docs1)\n"
   ]
  },
  {
   "cell_type": "code",
   "execution_count": null,
   "metadata": {},
   "outputs": [],
   "source": []
  }
 ],
 "metadata": {
  "language_info": {
   "name": "python"
  }
 },
 "nbformat": 4,
 "nbformat_minor": 2
}
